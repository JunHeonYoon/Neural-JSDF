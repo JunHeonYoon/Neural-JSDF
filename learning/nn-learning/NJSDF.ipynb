{
 "cells": [
  {
   "cell_type": "code",
   "execution_count": 1,
   "metadata": {},
   "outputs": [],
   "source": [
    "from scipy.io import loadmat\n",
    "import torch\n",
    "import torch.nn as nn\n",
    "import torch.nn.functional as F\n",
    "import numpy as np\n",
    "import time\n",
    "\n",
    "from sdf.robot_sdf import RobotSdfCollisionNet"
   ]
  },
  {
   "cell_type": "code",
   "execution_count": 2,
   "metadata": {},
   "outputs": [
    {
     "name": "stdout",
     "output_type": "stream",
     "text": [
      "(4950000, 19)\n"
     ]
    }
   ],
   "source": [
    "device = torch.device('cpu')\n",
    "tensor_args = {'device': device, 'dtype': torch.float32}\n",
    "data = loadmat('../data-sampling/datasets/data_mesh.mat')['dataset']\n",
    "print(data.shape)"
   ]
  },
  {
   "cell_type": "code",
   "execution_count": 3,
   "metadata": {},
   "outputs": [
    {
     "name": "stdout",
     "output_type": "stream",
     "text": [
      "Number of train data      :  4851000\n",
      "Number of validation data :  49500\n",
      "Number of test data       :  49500\n"
     ]
    }
   ],
   "source": [
    "L1 = 0\n",
    "L2 = int(1.0 * data.shape[0])\n",
    "n_size = L2\n",
    "train_ratio = 0.98\n",
    "test_ratio = 0.01\n",
    "val_ratio = 1 - train_ratio - test_ratio\n",
    "idx_train = np.arange(0, int(n_size * train_ratio))\n",
    "idx_val = np.arange(idx_train[-1] + 1, int(n_size * (train_ratio + test_ratio)))\n",
    "idx_test = np.arange(idx_val[-1] + 1, int(n_size))\n",
    "\n",
    "print(\"Number of train data      : \", idx_train.shape[0])\n",
    "print(\"Number of validation data : \", idx_val.shape[0])\n",
    "print(\"Number of test data       : \", idx_test.shape[0])"
   ]
  },
  {
   "cell_type": "code",
   "execution_count": 4,
   "metadata": {},
   "outputs": [
    {
     "name": "stdout",
     "output_type": "stream",
     "text": [
      "Weights loaded!\n"
     ]
    }
   ],
   "source": [
    "x = torch.Tensor(data[L1:L2, 0:10]).to(device, dtype=torch.float16)\n",
    "y = 100 * torch.Tensor(data[L1:L2, 10:]).to(device, dtype=torch.float16)\n",
    "dof = x.shape[1]\n",
    "s = 256\n",
    "n_layers = 5\n",
    "batch_size = 50000\n",
    "skips = []\n",
    "# fname = 'sdf_%dx%d_mesh_%d_drop_%1f.pt'%(s,n_layers,batch_size, p)\n",
    "fname = 'model/sdf_%dx%d_mesh_%d.pt'%(s,n_layers,batch_size)\n",
    "if skips == []:\n",
    "    n_layers-=1\n",
    "nn_model = RobotSdfCollisionNet(in_channels=dof, out_channels=y.shape[1], layers=[s] * n_layers, skips=skips, dropout_ratio=0)\n",
    "nn_model.load_weights(fname, tensor_args)\n",
    "nn_model.model.to(**tensor_args)\n",
    "model = nn_model.model"
   ]
  },
  {
   "cell_type": "code",
   "execution_count": 5,
   "metadata": {},
   "outputs": [
    {
     "data": {
      "text/plain": [
       "tensor([[-2.3340,  1.2070, -2.9668,  ...,  0.0271, -0.0393,  0.1138],\n",
       "        [-2.3340,  1.2070, -2.9668,  ..., -0.1213, -0.0626,  0.0052],\n",
       "        [-2.3340,  1.2070, -2.9668,  ..., -0.0793, -0.0112,  0.0179],\n",
       "        ...,\n",
       "        [-0.4402,  1.6855,  2.9668,  ..., -0.1785,  0.0033,  0.4771],\n",
       "        [-0.4402,  1.6855,  2.9668,  ..., -0.1196, -0.1043,  0.5439],\n",
       "        [-0.4402,  1.6855,  2.9668,  ..., -0.1323, -0.0710,  0.5693]],\n",
       "       dtype=torch.float16)"
      ]
     },
     "execution_count": 5,
     "metadata": {},
     "output_type": "execute_result"
    }
   ],
   "source": [
    "x_test = x[idx_test, :]\n",
    "y_test = y[idx_test, :]\n",
    "x_test"
   ]
  },
  {
   "cell_type": "code",
   "execution_count": 6,
   "metadata": {},
   "outputs": [
    {
     "name": "stdout",
     "output_type": "stream",
     "text": [
      "tensor([[[-2.3340,  1.2070, -2.9668,  ...,  0.0271, -0.0393,  0.1138]],\n",
      "\n",
      "        [[-2.3340,  1.2070, -2.9668,  ..., -0.1213, -0.0626,  0.0052]],\n",
      "\n",
      "        [[-2.3340,  1.2070, -2.9668,  ..., -0.0793, -0.0112,  0.0179]],\n",
      "\n",
      "        ...,\n",
      "\n",
      "        [[-0.4402,  1.6855,  2.9668,  ..., -0.1785,  0.0033,  0.4771]],\n",
      "\n",
      "        [[-0.4402,  1.6855,  2.9668,  ..., -0.1196, -0.1043,  0.5439]],\n",
      "\n",
      "        [[-0.4402,  1.6855,  2.9668,  ..., -0.1323, -0.0710,  0.5693]]])\n"
     ]
    }
   ],
   "source": [
    "# x_tmp = torch.from_numpy( np.array([x_test[0,:].cpu().detach().numpy()], dtype = np.float32) )\n",
    "# print(x_tmp)\n",
    "x_tmp = np.zeros((49500,1,10), dtype = np.float32)\n",
    "for i in range(0,49500):\n",
    "    x_tmp[i] = np.array([x_test[i,:].cpu().detach().numpy()], dtype = np.float32)\n",
    "x_tmp = torch.from_numpy(x_tmp)\n",
    "print(x_tmp)"
   ]
  },
  {
   "cell_type": "code",
   "execution_count": 7,
   "metadata": {},
   "outputs": [
    {
     "name": "stdout",
     "output_type": "stream",
     "text": [
      "1.982814073562622\n"
     ]
    }
   ],
   "source": [
    "tic=time.time()\n",
    "for i in range(21000):\n",
    "    # y_pred, j_pred, _ = nn_model.compute_signed_distance_wgrad(x_tmp[i])\n",
    "    y_pred = nn_model.compute_signed_distance(x_tmp[i])\n",
    "toc=time.time()\n",
    "# print(y_pred)\n",
    "# print(j_pred)\n",
    "print(toc-tic)"
   ]
  },
  {
   "cell_type": "code",
   "execution_count": 8,
   "metadata": {},
   "outputs": [
    {
     "name": "stdout",
     "output_type": "stream",
     "text": [
      "Thread: 24\n",
      "[[-2.334     1.207    -2.967    ...  0.02711  -0.0393    0.11383 ]\n",
      " [-2.334     1.207    -2.967    ... -0.12134  -0.0626    0.005226]\n",
      " [-2.334     1.207    -2.967    ... -0.0793   -0.01122   0.01785 ]\n",
      " ...\n",
      " [-0.4402    1.686     2.967    ... -0.1785    0.003325  0.477   ]\n",
      " [-0.4402    1.686     2.967    ... -0.11957  -0.1043    0.544   ]\n",
      " [-0.4402    1.686     2.967    ... -0.1323   -0.071     0.5693  ]]\n"
     ]
    }
   ],
   "source": [
    "import libNJSDF_FUN as NJSDF_FUN\n",
    "NJSDF_FUN.setNeuralNetwork()\n",
    "x_tmp2 = x_test.cpu().detach().numpy()\n",
    "print(x_tmp2)"
   ]
  },
  {
   "cell_type": "code",
   "execution_count": 9,
   "metadata": {},
   "outputs": [
    {
     "name": "stdout",
     "output_type": "stream",
     "text": [
      "0.4367852210998535\n"
     ]
    }
   ],
   "source": [
    "tic_=time.time()\n",
    "for i in range(21000):\n",
    "    NJSDF_FUN.setNetworkInput(x_tmp2[i])\n",
    "    # g, g_d = NJSDF_FUN.calculateMlpOutput_wgrad(False)\n",
    "    g= NJSDF_FUN.calculateMlpOutput()\n",
    "toc_=time.time()\n",
    "# print(g)\n",
    "# print(g_d)\n",
    "print(toc_-tic_)"
   ]
  },
  {
   "cell_type": "code",
   "execution_count": 10,
   "metadata": {},
   "outputs": [],
   "source": [
    "from multiprocessing import Process\n",
    "\n",
    "def SDF_python(input):\n",
    "    y_pred = nn_model.compute_signed_distance(input)\n",
    "\n",
    "def SDF_cpp(input):\n",
    "    NJSDF_FUN.setNetworkInput(input)\n",
    "    g = NJSDF_FUN.calculateMlpOutput()"
   ]
  },
  {
   "cell_type": "code",
   "execution_count": 11,
   "metadata": {},
   "outputs": [],
   "source": [
    "processes_python = [Process(target=SDF_python, args=(x_tmp[i])) for i in range(21000)]\n",
    "processes_cpp    = [Process(target=SDF_cpp, args=(x_tmp2[i])) for i in range(21000)]"
   ]
  },
  {
   "cell_type": "code",
   "execution_count": 12,
   "metadata": {},
   "outputs": [],
   "source": [
    "# tic_=time.time()\n",
    "# for process in processes_python:\n",
    "#         process.start()\n",
    "# # wait for all processes to complete\n",
    "# for process in processes_python:\n",
    "#     process.join()\n",
    "# toc_=time.time()\n",
    "# print(toc_-tic_)"
   ]
  },
  {
   "cell_type": "code",
   "execution_count": 13,
   "metadata": {},
   "outputs": [],
   "source": [
    "# tic_=time.time()\n",
    "# for process in processes_cpp:\n",
    "#         process.start()\n",
    "# # wait for all processes to complete\n",
    "# for process in processes_cpp:\n",
    "#     process.join()\n",
    "# toc_=time.time()\n",
    "# print(toc_-tic_)"
   ]
  }
 ],
 "metadata": {
  "kernelspec": {
   "display_name": "Python 3.8.16 ('junheon': conda)",
   "language": "python",
   "name": "python3"
  },
  "language_info": {
   "codemirror_mode": {
    "name": "ipython",
    "version": 3
   },
   "file_extension": ".py",
   "mimetype": "text/x-python",
   "name": "python",
   "nbconvert_exporter": "python",
   "pygments_lexer": "ipython3",
   "version": "3.8.16"
  },
  "orig_nbformat": 4,
  "vscode": {
   "interpreter": {
    "hash": "8999e4497e65804057b5bedabf4d0b6540b4bf7a81dc4eb7c705de01ca1878a1"
   }
  }
 },
 "nbformat": 4,
 "nbformat_minor": 2
}
