{
 "cells": [
  {
   "cell_type": "code",
   "execution_count": 1,
   "metadata": {},
   "outputs": [],
   "source": [
    "from scipy.io import loadmat\n",
    "import torch\n",
    "import torch.nn.functional as F\n",
    "import numpy as np\n",
    "import time\n",
    "\n",
    "from sdf.robot_sdf import RobotSdfCollisionNet"
   ]
  },
  {
   "cell_type": "code",
   "execution_count": 2,
   "metadata": {},
   "outputs": [
    {
     "name": "stdout",
     "output_type": "stream",
     "text": [
      "(4950000, 19)\n"
     ]
    }
   ],
   "source": [
    "device = torch.device('cpu', 0)\n",
    "tensor_args = {'device': device, 'dtype': torch.float32}\n",
    "data = loadmat('../data-sampling/datasets/data_mesh.mat')['dataset']\n",
    "print(data.shape)"
   ]
  },
  {
   "cell_type": "code",
   "execution_count": 3,
   "metadata": {},
   "outputs": [
    {
     "name": "stdout",
     "output_type": "stream",
     "text": [
      "Number of train data      :  4851000\n",
      "Number of validation data :  49500\n",
      "Number of test data       :  49500\n"
     ]
    }
   ],
   "source": [
    "L1 = 0\n",
    "L2 = int(1.0 * data.shape[0])\n",
    "n_size = L2\n",
    "train_ratio = 0.98\n",
    "test_ratio = 0.01\n",
    "val_ratio = 1 - train_ratio - test_ratio\n",
    "idx_train = np.arange(0, int(n_size * train_ratio))\n",
    "idx_val = np.arange(idx_train[-1] + 1, int(n_size * (train_ratio + test_ratio)))\n",
    "idx_test = np.arange(idx_val[-1] + 1, int(n_size))\n",
    "\n",
    "print(\"Number of train data      : \", idx_train.shape[0])\n",
    "print(\"Number of validation data : \", idx_val.shape[0])\n",
    "print(\"Number of test data       : \", idx_test.shape[0])"
   ]
  },
  {
   "cell_type": "code",
   "execution_count": 4,
   "metadata": {},
   "outputs": [
    {
     "name": "stdout",
     "output_type": "stream",
     "text": [
      "Weights loaded!\n"
     ]
    }
   ],
   "source": [
    "x = torch.Tensor(data[L1:L2, 0:10]).to(device, dtype=torch.float16)\n",
    "y = 100 * torch.Tensor(data[L1:L2, 10:]).to(device, dtype=torch.float16)\n",
    "dof = x.shape[1]\n",
    "s = 256\n",
    "n_layers = 5\n",
    "batch_size = 50000\n",
    "skips = []\n",
    "# fname = 'sdf_%dx%d_mesh_%d_drop_%1f.pt'%(s,n_layers,batch_size, p)\n",
    "fname = 'model/sdf_%dx%d_mesh_%d.pt'%(s,n_layers,batch_size)\n",
    "if skips == []:\n",
    "    n_layers-=1\n",
    "nn_model = RobotSdfCollisionNet(in_channels=dof, out_channels=y.shape[1], layers=[s] * n_layers, skips=skips, dropout_ratio=0)\n",
    "nn_model.load_weights(fname, tensor_args)\n",
    "nn_model.model.to(**tensor_args)\n",
    "model = nn_model.model"
   ]
  },
  {
   "cell_type": "code",
   "execution_count": 5,
   "metadata": {},
   "outputs": [],
   "source": [
    "x_test = x[idx_test, :]\n",
    "y_test = y[idx_test, :]"
   ]
  },
  {
   "cell_type": "code",
   "execution_count": 6,
   "metadata": {},
   "outputs": [
    {
     "name": "stdout",
     "output_type": "stream",
     "text": [
      "tensor([[-2.3340,  1.2070, -2.9668, -2.1777,  1.6318,  3.2090,  0.2642,  0.0271,\n",
      "         -0.0393,  0.1138]])\n"
     ]
    }
   ],
   "source": [
    "x_tmp = torch.from_numpy( np.array([x_test[0,:].cpu().detach().numpy()], dtype = np.float32) )\n",
    "print(x_tmp)"
   ]
  },
  {
   "cell_type": "code",
   "execution_count": 7,
   "metadata": {},
   "outputs": [
    {
     "name": "stdout",
     "output_type": "stream",
     "text": [
      "tensor([[-0.6323,  3.0472, 16.8176, 30.4063, 42.7080, 53.2352, 62.3256, 67.8052,\n",
      "         69.6175]], grad_fn=<AddmmBackward0>)\n",
      "tensor([[-0.6323,  3.0472, 16.8176, 30.4063, 42.7080, 53.2352, 62.3256, 67.8052,\n",
      "         69.6175]], grad_fn=<IndexBackward0>)\n",
      "tensor([[-0.6323,  3.0472, 16.8176, 30.4063, 42.7080, 53.2352, 62.3256, 67.8052,\n",
      "         69.6175]])\n",
      "tensor([[[ 6.0892e-01,  1.1861e+00,  1.6857e+00, -6.7983e-01,  5.6590e-01,\n",
      "           1.4291e+00,  3.1498e+00,  3.6062e+00,  4.3735e+00],\n",
      "         [ 3.4102e-01, -6.3736e-01, -6.3747e-01, -1.4858e+01, -1.3252e+01,\n",
      "          -1.0406e+01, -4.5769e+00, -1.5499e+00,  1.5037e-01],\n",
      "         [-6.7071e-01, -4.7712e-01, -5.1804e-01, -1.4064e+00, -7.2312e-02,\n",
      "           4.4660e-02,  2.2492e+00,  3.3477e+00,  4.6831e+00],\n",
      "         [-7.2216e-02, -6.1670e-01, -2.8209e-01,  1.2861e-01, -3.5333e-01,\n",
      "           1.0201e+01,  2.1503e+01,  2.7276e+01,  2.8689e+01],\n",
      "         [ 2.7833e-01,  2.7367e-01, -6.4873e-02, -6.8343e-02,  2.7827e-01,\n",
      "           5.4586e-01, -3.9120e+00, -6.6616e+00, -7.3683e+00],\n",
      "         [-6.3341e-02, -2.7395e-01,  7.8017e-02, -2.0242e-01, -2.9540e-01,\n",
      "          -4.4987e-01, -4.4465e+00, -1.0369e+01, -1.5402e+01],\n",
      "         [ 2.6977e-02, -3.3894e-02,  2.4099e-02,  1.2483e-02,  2.0451e-01,\n",
      "           2.4630e-01,  9.0208e-01, -2.4619e+00, -5.1388e+00],\n",
      "         [ 5.7020e+01,  8.1964e+00,  3.1835e+00,  3.5157e+01,  2.3900e+01,\n",
      "           1.9031e+01, -1.0284e+00, -1.0696e+01, -1.9076e+01],\n",
      "         [-5.7353e+01, -7.6182e+00, -8.3857e+00,  4.5912e+01,  3.5931e+01,\n",
      "           1.6501e+01, -3.6904e+00, -1.6980e+01, -2.4285e+01],\n",
      "         [ 1.7124e+01, -9.8414e+01, -1.1062e+02, -7.8831e+01, -8.7933e+01,\n",
      "          -9.6340e+01, -1.0496e+02, -1.0622e+02, -1.0729e+02]]])\n",
      "0.007643222808837891\n"
     ]
    }
   ],
   "source": [
    "tic=time.time()\n",
    "y_pred, j_pred, _ = nn_model.compute_signed_distance_wgrad(x_tmp)\n",
    "toc=time.time()\n",
    "print(y_pred)\n",
    "print(j_pred)\n",
    "print(toc-tic)"
   ]
  },
  {
   "cell_type": "code",
   "execution_count": 8,
   "metadata": {},
   "outputs": [],
   "source": [
    "# print(x_test[0,:].cpu().detach().numpy())\n",
    "# print(y_test[0,:].cpu().detach().numpy())\n",
    "# print(y_pred[0,:].cpu().detach().numpy())"
   ]
  },
  {
   "cell_type": "code",
   "execution_count": 9,
   "metadata": {},
   "outputs": [],
   "source": [
    "# input = np.array(x_test[0,:].cpu().detach().numpy(), dtype=np.float64)\n",
    "# input_ptr = input.ctypes.data_as(POINTER(c_double))\n",
    "# njsdf.setNetworkInput(input_ptr)  # C언어 버전 실행\n",
    "\n",
    "# output = np.array([0., 0., 0., 0., 0., 0., 0., 0., 0.], dtype=np.float64)\n",
    "# output_ptr = output.ctypes.data_as(POINTER(c_double))\n",
    "# njsdf.calculateMlpOutput(output_ptr)"
   ]
  },
  {
   "cell_type": "code",
   "execution_count": 10,
   "metadata": {},
   "outputs": [
    {
     "name": "stdout",
     "output_type": "stream",
     "text": [
      "0.0007979869842529297\n",
      "Jacobian: \n",
      "C++:\n",
      "[[ 6.08922382e-01  3.41015624e-01 -6.70708854e-01 -7.22157531e-02\n",
      "   2.78330287e-01 -6.33406391e-02  2.69774710e-02  5.70202890e+01\n",
      "  -5.73525671e+01  1.71236630e+01]\n",
      " [ 1.18611534e+00 -6.37357253e-01 -4.77119849e-01 -6.16700199e-01\n",
      "   2.73672989e-01 -2.73947025e-01 -3.38935612e-02  8.19642930e+00\n",
      "  -7.61820669e+00 -9.84135676e+01]\n",
      " [ 1.68570034e+00 -6.37463583e-01 -5.18039113e-01 -2.82088147e-01\n",
      "  -6.48730874e-02  7.80169796e-02  2.40989082e-02  3.18349964e+00\n",
      "  -8.38566770e+00 -1.10620462e+02]\n",
      " [-6.79832654e-01 -1.48576436e+01 -1.40643261e+00  1.28607936e-01\n",
      "  -6.83430664e-02 -2.02425094e-01  1.24827414e-02  3.51567358e+01\n",
      "   4.59118175e+01 -7.88306091e+01]\n",
      " [ 5.65901156e-01 -1.32520353e+01 -7.23121356e-02 -3.53331555e-01\n",
      "   2.78271315e-01 -2.95402162e-01  2.04507789e-01  2.38998294e+01\n",
      "   3.59312246e+01 -8.79325995e+01]\n",
      " [ 1.42907867e+00 -1.04056160e+01  4.46595108e-02  1.02007264e+01\n",
      "   5.45862591e-01 -4.49872963e-01  2.46298573e-01  1.90313950e+01\n",
      "   1.65014571e+01 -9.63398537e+01]\n",
      " [ 3.14984397e+00 -4.57691955e+00  2.24923634e+00  2.15033098e+01\n",
      "  -3.91201811e+00 -4.44645230e+00  9.02076978e-01 -1.02839837e+00\n",
      "  -3.69042137e+00 -1.04960785e+02]\n",
      " [ 3.60621590e+00 -1.54989890e+00  3.34769335e+00  2.72755164e+01\n",
      "  -6.66157496e+00 -1.03692998e+01 -2.46191663e+00 -1.06957064e+01\n",
      "  -1.69803533e+01 -1.06222591e+02]\n",
      " [ 4.37352872e+00  1.50375647e-01  4.68310354e+00  2.86885382e+01\n",
      "  -7.36828444e+00 -1.54017563e+01 -5.13882048e+00 -1.90764907e+01\n",
      "  -2.42845478e+01 -1.07288965e+02]]\n",
      "Python:\n",
      "[[ 6.08922482e-01  1.18611515e+00  1.68569982e+00 -6.79832458e-01\n",
      "   5.65901756e-01  1.42907774e+00  3.14984202e+00  3.60621595e+00\n",
      "   4.37352943e+00]\n",
      " [ 3.41015995e-01 -6.37356162e-01 -6.37465298e-01 -1.48576422e+01\n",
      "  -1.32520342e+01 -1.04056196e+01 -4.57692289e+00 -1.54989934e+00\n",
      "   1.50374651e-01]\n",
      " [-6.70708954e-01 -4.77119565e-01 -5.18039346e-01 -1.40643239e+00\n",
      "  -7.23124146e-02  4.46596146e-02  2.24923682e+00  3.34769440e+00\n",
      "   4.68310356e+00]\n",
      " [-7.22159743e-02 -6.16700768e-01 -2.82087535e-01  1.28607631e-01\n",
      "  -3.53329659e-01  1.02007275e+01  2.15033112e+01  2.72755108e+01\n",
      "   2.86885357e+01]\n",
      " [ 2.78330296e-01  2.73673087e-01 -6.48733377e-02 -6.83431402e-02\n",
      "   2.78271377e-01  5.45862257e-01 -3.91201735e+00 -6.66157532e+00\n",
      "  -7.36828327e+00]\n",
      " [-6.33406639e-02 -2.73946613e-01  7.80166686e-02 -2.02424869e-01\n",
      "  -2.95401990e-01 -4.49872613e-01 -4.44645262e+00 -1.03692989e+01\n",
      "  -1.54017563e+01]\n",
      " [ 2.69773602e-02 -3.38935815e-02  2.40987986e-02  1.24826618e-02\n",
      "   2.04507485e-01  2.46298417e-01  9.02076602e-01 -2.46191621e+00\n",
      "  -5.13882208e+00]\n",
      " [ 5.70202942e+01  8.19643116e+00  3.18349743e+00  3.51567383e+01\n",
      "   2.38998318e+01  1.90313988e+01 -1.02839565e+00 -1.06957026e+01\n",
      "  -1.90764923e+01]\n",
      " [-5.73525620e+01 -7.61821222e+00 -8.38566399e+00  4.59118118e+01\n",
      "   3.59312286e+01  1.65014648e+01 -3.69041777e+00 -1.69803543e+01\n",
      "  -2.42845535e+01]\n",
      " [ 1.71236725e+01 -9.84135742e+01 -1.10620438e+02 -7.88306122e+01\n",
      "  -8.79326172e+01 -9.63398590e+01 -1.04960785e+02 -1.06222580e+02\n",
      "  -1.07288971e+02]]\n"
     ]
    }
   ],
   "source": [
    "import NJSDF_FUN\n",
    "\n",
    "NJSDF_FUN.setNeuralNetwork()\n",
    "NJSDF_FUN.setNetworkInput(x_test[0,:].cpu().detach().numpy())\n",
    "tic=time.time()\n",
    "g, g_d = NJSDF_FUN.calculateMlpOutput()\n",
    "toc=time.time()\n",
    "print(toc-tic)\n",
    "print(\"SDF:\")\n",
    "print(\"C++:\")\n",
    "print(g)\n",
    "print(\"Python:\")\n",
    "print(y_pred[0].cpu().detach().numpy())\n",
    "print(\"Jacobian: \")\n",
    "print(\"C++:\")\n",
    "print(g_d)\n",
    "print(\"Python:\")\n",
    "print(j_pred[0].cpu().detach().numpy())"
   ]
  }
 ],
 "metadata": {
  "kernelspec": {
   "display_name": "Python 3.8.16 ('junheon': conda)",
   "language": "python",
   "name": "python3"
  },
  "language_info": {
   "codemirror_mode": {
    "name": "ipython",
    "version": 3
   },
   "file_extension": ".py",
   "mimetype": "text/x-python",
   "name": "python",
   "nbconvert_exporter": "python",
   "pygments_lexer": "ipython3",
   "version": "3.8.16"
  },
  "orig_nbformat": 4,
  "vscode": {
   "interpreter": {
    "hash": "8999e4497e65804057b5bedabf4d0b6540b4bf7a81dc4eb7c705de01ca1878a1"
   }
  }
 },
 "nbformat": 4,
 "nbformat_minor": 2
}
