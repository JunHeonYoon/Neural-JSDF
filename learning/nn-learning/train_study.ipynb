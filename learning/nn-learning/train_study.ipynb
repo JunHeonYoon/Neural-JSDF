{
 "cells": [
  {
   "cell_type": "code",
   "execution_count": 1,
   "metadata": {},
   "outputs": [
    {
     "name": "stderr",
     "output_type": "stream",
     "text": [
      "/home/dyros/.conda/envs/junheon/lib/python3.10/site-packages/tqdm/auto.py:22: TqdmWarning: IProgress not found. Please update jupyter and ipywidgets. See https://ipywidgets.readthedocs.io/en/stable/user_install.html\n",
      "  from .autonotebook import tqdm as notebook_tqdm\n"
     ]
    }
   ],
   "source": [
    "from scipy.io import loadmat, savemat\n",
    "import torch\n",
    "import torch.nn.functional as F\n",
    "import numpy as np\n",
    "import time\n",
    "# import yaml\n",
    "\n",
    "import os\n",
    "import matplotlib.pyplot as plt\n",
    "from sdf.robot_sdf import RobotSdfCollisionNet\n",
    "import tqdm\n"
   ]
  },
  {
   "cell_type": "code",
   "execution_count": 2,
   "metadata": {},
   "outputs": [],
   "source": [
    "import gc\n",
    "gc.collect()\n",
    "torch.cuda.empty_cache()"
   ]
  },
  {
   "cell_type": "code",
   "execution_count": 3,
   "metadata": {},
   "outputs": [
    {
     "name": "stdout",
     "output_type": "stream",
     "text": [
      "NVIDIA GeForce RTX 3060 Laptop GPU\n"
     ]
    }
   ],
   "source": [
    "print(torch.cuda.get_device_name())\n",
    "device = torch.device('cuda', 0) if torch.cuda.is_available() else torch.device('cpu')\n",
    "tensor_args = {'device': device, 'dtype': torch.float32}"
   ]
  },
  {
   "cell_type": "code",
   "execution_count": 4,
   "metadata": {},
   "outputs": [
    {
     "name": "stdout",
     "output_type": "stream",
     "text": [
      "(4950000, 19)\n"
     ]
    }
   ],
   "source": [
    "data = loadmat('../data-sampling/datasets/data_mesh.mat')['dataset']\n",
    "print(data.shape)"
   ]
  },
  {
   "cell_type": "code",
   "execution_count": 5,
   "metadata": {},
   "outputs": [
    {
     "name": "stdout",
     "output_type": "stream",
     "text": [
      "(4950000, 17)\n"
     ]
    }
   ],
   "source": [
    "datax = np.sin(data[:,0:7])\n",
    "datax = np.concatenate([datax, np.cos(data[:,0:7])], axis=1)\n",
    "datax = np.concatenate([datax, data[:, 7:10]], axis=1)\n",
    "print(datax.shape)"
   ]
  },
  {
   "cell_type": "code",
   "execution_count": 6,
   "metadata": {},
   "outputs": [
    {
     "name": "stdout",
     "output_type": "stream",
     "text": [
      "Number of train data      :  4851000\n",
      "Number of test data       :  49500\n",
      "Number of validation data :  49500\n"
     ]
    }
   ],
   "source": [
    "L1 = 0\n",
    "L2 = int(1.0 * data.shape[0])\n",
    "n_size = L2\n",
    "train_ratio = 0.98\n",
    "test_ratio = 0.01\n",
    "val_ratio = 1 - train_ratio - test_ratio\n",
    "idx_train = np.arange(0, int(n_size * train_ratio))\n",
    "idx_val = np.arange(idx_train[-1] + 1, int(n_size * (train_ratio + test_ratio)))\n",
    "idx_test = np.arange(idx_val[-1] + 1, int(n_size))\n",
    "\n",
    "print(\"Number of train data      : \", idx_train.shape[0])\n",
    "print(\"Number of test data       : \", idx_test.shape[0])\n",
    "print(\"Number of validation data : \", idx_val.shape[0])"
   ]
  },
  {
   "cell_type": "code",
   "execution_count": 7,
   "metadata": {},
   "outputs": [
    {
     "name": "stdout",
     "output_type": "stream",
     "text": [
      "Shape of Input(x)  :  torch.Size([4950000, 17])\n",
      "Shape of Output(y) :  torch.Size([4950000, 9])\n",
      "Layer Size :  256\n",
      "Number of Hidden layers :  4\n"
     ]
    }
   ],
   "source": [
    "# x = torch.Tensor(data[L1:L2, 0:10]).to(device, dtype=torch.float16)\n",
    "x = torch.Tensor(datax[L1:L2,:]).to(device, dtype=torch.float16)\n",
    "y = 100 * torch.Tensor(data[L1:L2, 10:]).to(device, dtype=torch.float16)\n",
    "dof = x.shape[1]\n",
    "s = 256\n",
    "n_layers = 5\n",
    "skips = [] # for skip-connection(s.c.)\n",
    "fname = 'sdf_%dx%d_mesh.pt'%(s,n_layers)\n",
    "if skips == []:\n",
    "    n_layers-=1\n",
    "\n",
    "print(\"Shape of Input(x)  : \", x.shape)\n",
    "print(\"Shape of Output(y) : \", y.shape)\n",
    "print(\"Layer Size : \", s)\n",
    "print(\"Number of Hidden layers : \", n_layers)"
   ]
  },
  {
   "cell_type": "code",
   "execution_count": 8,
   "metadata": {},
   "outputs": [
    {
     "name": "stdout",
     "output_type": "stream",
     "text": [
      "MLPRegression(\n",
      "  (layers): ModuleList(\n",
      "    (0): Sequential(\n",
      "      (0): Sequential(\n",
      "        (0): Linear(in_features=51, out_features=256, bias=True)\n",
      "        (1): ReLU()\n",
      "      )\n",
      "      (1): Sequential(\n",
      "        (0): Linear(in_features=256, out_features=256, bias=True)\n",
      "        (1): ReLU()\n",
      "      )\n",
      "      (2): Sequential(\n",
      "        (0): Linear(in_features=256, out_features=256, bias=True)\n",
      "        (1): ReLU()\n",
      "      )\n",
      "      (3): Sequential(\n",
      "        (0): Linear(in_features=256, out_features=256, bias=True)\n",
      "        (1): ReLU()\n",
      "      )\n",
      "      (4): Sequential(\n",
      "        (0): Linear(in_features=256, out_features=9, bias=True)\n",
      "      )\n",
      "    )\n",
      "  )\n",
      ")\n",
      "Sum of parameters:213001\n"
     ]
    }
   ],
   "source": [
    "nn_model = RobotSdfCollisionNet(in_channels=dof, out_channels=y.shape[1], layers=[s] * n_layers, skips=skips)\n",
    "nn_model.model.to(**tensor_args)\n",
    "model = nn_model.model\n",
    "nelem = sum([param.nelement() for param in model.parameters()])\n",
    "print(repr(model))\n",
    "print(\"Sum of parameters:%d\" % nelem)"
   ]
  },
  {
   "cell_type": "code",
   "execution_count": 9,
   "metadata": {},
   "outputs": [],
   "source": [
    "x_train = x[idx_train, :]\n",
    "y_train = y[idx_train, :]\n",
    "y_train_labels = y[idx_train, :]\n",
    "y_train_labels[y_train_labels<=0] = -1\n",
    "y_train_labels[y_train_labels>0] = 1\n",
    "\n",
    "y_val_labels = y[idx_val, :]\n",
    "y_val_labels[y_val_labels<=0] = -1\n",
    "y_val_labels[y_val_labels>0] = 1\n",
    "\n",
    "# scale dataset: (disabled because of nerf features!)\n",
    "mean_x = torch.mean(x, dim=0) * 0.0\n",
    "std_x = torch.std(x, dim=0) * 0.0 + 1.0\n",
    "mean_y = torch.mean(y, dim=0) * 0.0\n",
    "std_y = torch.std(y, dim=0) * 0.0 + 1.0\n",
    "\n",
    "x_val = x[idx_val, :]\n",
    "y_val = y[idx_val, :]\n",
    "x_test = x[idx_test, :]\n",
    "y_test = y[idx_test, :]"
   ]
  },
  {
   "cell_type": "code",
   "execution_count": 10,
   "metadata": {},
   "outputs": [],
   "source": [
    "optimizer = torch.optim.Adam(model.parameters(), lr=2e-3)\n",
    "\n",
    "scheduler = torch.optim.lr_scheduler.ReduceLROnPlateau(optimizer, mode='min', factor=0.5, patience=5000,\n",
    "                                                        threshold=0.01, threshold_mode='rel',\n",
    "                                                        cooldown=0, min_lr=0, eps=1e-04, verbose=True)"
   ]
  },
  {
   "cell_type": "code",
   "execution_count": null,
   "metadata": {},
   "outputs": [],
   "source": [
    "epochs = 100000\n",
    "min_loss = 2000.0"
   ]
  },
  {
   "cell_type": "code",
   "execution_count": null,
   "metadata": {},
   "outputs": [],
   "source": [
    "e_notsaved = 0\n",
    "scaler = torch.cuda.amp.GradScaler(enabled=True) # https://computing-jhson.tistory.com/m/37\n",
    "idx_close_train = (y_train[:, -1] < 10)\n",
    "idx_close_val = (y_val[:, -1] < 10)"
   ]
  },
  {
   "cell_type": "code",
   "execution_count": null,
   "metadata": {},
   "outputs": [],
   "source": [
    "from torch.utils.data import TensorDataset, DataLoader\n",
    "train_dataset = TensorDataset(x_train, y_train)\n",
    "loader = DataLoader(train_dataset, batch_size=int(idx_train.shape[0]/5), shuffle=True, drop_last=False)"
   ]
  },
  {
   "cell_type": "code",
   "execution_count": null,
   "metadata": {},
   "outputs": [],
   "source": [
    "for e in range(epochs):\n",
    "        t0 = time.time()\n",
    "        model.train()\n",
    "        loss = []\n",
    "        i = 0\n",
    "        \n",
    "        for x_batch, y_batch in loader:\n",
    "            with torch.cuda.amp.autocast():\n",
    "                y_pred_train = (model.forward(x_batch))\n",
    "                train_loss = F.mse_loss(y_pred_train, y_batch, reduction='mean')\n",
    "\n",
    "            scaler.scale(train_loss).backward()\n",
    "            scaler.step(optimizer)\n",
    "            scaler.update()\n",
    "            optimizer.zero_grad()\n",
    "            loss.append(train_loss.item())\n",
    "\n",
    "        model.eval()\n",
    "        with torch.cuda.amp.autocast():\n",
    "            y_pred = model.forward(x_val)\n",
    "            val_loss = F.mse_loss(y_pred, y_val, reduction='mean')\n",
    "            ee_loss_close = F.l1_loss(y_pred[idx_close_val][:,-1], y_val[idx_close_val][:,-1], reduction='mean')\n",
    "        if e == 0:\n",
    "            min_loss = val_loss\n",
    "        scheduler.step(val_loss)\n",
    "        train_loss = np.mean(loss)\n",
    "        e_notsaved += 1\n",
    "        if (val_loss < min_loss and e > 100 and e_notsaved > 100):\n",
    "            e_notsaved = 0\n",
    "            print('saving model', val_loss.item())\n",
    "            torch.save(\n",
    "                {\n",
    "                    'epoch': e,\n",
    "                    'model_state_dict': model.state_dict(),\n",
    "                    'optimizer_state_dict': optimizer.state_dict(),\n",
    "                    'norm': {'x': {'mean': mean_x, 'std': std_x},\n",
    "                             'y': {'mean': mean_y, 'std': std_y}}\n",
    "                },\n",
    "                fname)\n",
    "                #'sdf_convex_256_mlp_nerf_skip.pt')\n",
    "            min_loss = val_loss\n",
    "            print(y_pred[0, :])\n",
    "            print(y_val[0, :])\n",
    "            # if e > 1500:\n",
    "            #     break\n",
    "        print(\n",
    "            \"Epoch: %d (Saved at %d), Train Loss: %4.3f, Validation Loss: %4.3f (%4.3f), Epoch time: %4.3f s, LR = %4.8f\" % (\n",
    "                e, e-e_notsaved+1, train_loss.item(), val_loss.item(), ee_loss_close.item(), time.time() - t0,\n",
    "                optimizer.param_groups[0][\"lr\"]))\n",
    "        #print(abs(y_pred-y_val).mean(0))"
   ]
  },
  {
   "cell_type": "code",
   "execution_count": null,
   "metadata": {},
   "outputs": [],
   "source": [
    "with torch.no_grad():\n",
    "    x = x_test.float()  # [y_test[:,0] > 0.0]\n",
    "    y = y_test.float()  # [y_test[:,0] > 0.0]\n",
    "\n",
    "    y_pred = model.forward(x)\n",
    "    y_pred = torch.mul(y_pred, std_y) + mean_y\n",
    "    y_test = torch.mul(y, std_y) + mean_y\n",
    "    print(y_test[y_test > 0.0])\n",
    "    print(y_pred[y_test > 0.0])\n",
    "    # print(y_pred.shape, y_test.shape)\n",
    "    loss = F.l1_loss(y_pred, y_test, reduction='mean')\n",
    "    print(torch.median(y_pred), torch.mean(y_pred))\n",
    "    print(loss.item())"
   ]
  },
  {
   "cell_type": "code",
   "execution_count": null,
   "metadata": {},
   "outputs": [],
   "source": []
  }
 ],
 "metadata": {
  "kernelspec": {
   "display_name": "junheon",
   "language": "python",
   "name": "python3"
  },
  "language_info": {
   "codemirror_mode": {
    "name": "ipython",
    "version": 3
   },
   "file_extension": ".py",
   "mimetype": "text/x-python",
   "name": "python",
   "nbconvert_exporter": "python",
   "pygments_lexer": "ipython3",
   "version": "3.10.9"
  },
  "orig_nbformat": 4,
  "vscode": {
   "interpreter": {
    "hash": "ebf559a1a26c7ab09690bdc78bbdd9cd011abb0bf2c28ca1b9de394fc6757bd6"
   }
  }
 },
 "nbformat": 4,
 "nbformat_minor": 2
}
