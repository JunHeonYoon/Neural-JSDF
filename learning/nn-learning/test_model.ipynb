{
 "cells": [
  {
   "cell_type": "code",
   "execution_count": 115,
   "metadata": {},
   "outputs": [],
   "source": [
    "from scipy.io import loadmat, savemat\n",
    "import torch\n",
    "import torch.nn.functional as F\n",
    "import numpy as np\n",
    "import time\n",
    "import yaml\n",
    "\n",
    "import os\n",
    "import matplotlib.pyplot as plt\n",
    "from sdf.robot_sdf import RobotSdfCollisionNet"
   ]
  },
  {
   "cell_type": "code",
   "execution_count": 116,
   "metadata": {},
   "outputs": [
    {
     "name": "stdout",
     "output_type": "stream",
     "text": [
      "(4950000, 19)\n"
     ]
    }
   ],
   "source": [
    "device = torch.device('cpu', 0)\n",
    "tensor_args = {'device': device, 'dtype': torch.float32}\n",
    "data = loadmat('../data-sampling/datasets/data_mesh.mat')['dataset']\n",
    "print(data.shape)"
   ]
  },
  {
   "cell_type": "code",
   "execution_count": 117,
   "metadata": {},
   "outputs": [
    {
     "name": "stdout",
     "output_type": "stream",
     "text": [
      "Number of train data      :  4851000\n",
      "Number of validation data :  49500\n",
      "Number of test data       :  49500\n"
     ]
    }
   ],
   "source": [
    "L1 = 0\n",
    "L2 = int(1.0 * data.shape[0])\n",
    "n_size = L2\n",
    "train_ratio = 0.98\n",
    "test_ratio = 0.01\n",
    "val_ratio = 1 - train_ratio - test_ratio\n",
    "idx_train = np.arange(0, int(n_size * train_ratio))\n",
    "idx_val = np.arange(idx_train[-1] + 1, int(n_size * (train_ratio + test_ratio)))\n",
    "idx_test = np.arange(idx_val[-1] + 1, int(n_size))\n",
    "\n",
    "print(\"Number of train data      : \", idx_train.shape[0])\n",
    "print(\"Number of validation data : \", idx_val.shape[0])\n",
    "print(\"Number of test data       : \", idx_test.shape[0])"
   ]
  },
  {
   "cell_type": "code",
   "execution_count": 118,
   "metadata": {},
   "outputs": [
    {
     "name": "stdout",
     "output_type": "stream",
     "text": [
      "Weights loaded!\n"
     ]
    }
   ],
   "source": [
    "x = torch.Tensor(data[L1:L2, 0:10]).to(device, dtype=torch.float16)\n",
    "y = 100 * torch.Tensor(data[L1:L2, 10:]).to(device, dtype=torch.float16)\n",
    "dof = x.shape[1]\n",
    "s = 256\n",
    "n_layers = 5\n",
    "batch_size = 50000\n",
    "p = 0.1\n",
    "skips = []\n",
    "# fname = 'sdf_%dx%d_mesh_%d_drop_%1f.pt'%(s,n_layers,batch_size, p)\n",
    "fname = 'model/sdf_%dx%d_mesh_%d.pt'%(s,n_layers,batch_size)\n",
    "if skips == []:\n",
    "    n_layers-=1\n",
    "nn_model = RobotSdfCollisionNet(in_channels=dof, out_channels=y.shape[1], layers=[s] * n_layers, skips=skips, dropout_ratio=p)\n",
    "nn_model.load_weights(fname, tensor_args)\n",
    "nn_model.model.to(**tensor_args)\n",
    "model = nn_model.model"
   ]
  },
  {
   "cell_type": "code",
   "execution_count": 119,
   "metadata": {},
   "outputs": [
    {
     "name": "stdout",
     "output_type": "stream",
     "text": [
      "[[0. 0. 1. ... 1. 1. 1.]\n",
      " [0. 1. 1. ... 1. 1. 1.]\n",
      " [0. 1. 1. ... 1. 1. 1.]\n",
      " ...\n",
      " [1. 1. 1. ... 1. 0. 0.]\n",
      " [1. 1. 1. ... 1. 1. 0.]\n",
      " [1. 1. 1. ... 1. 1. 0.]]\n"
     ]
    }
   ],
   "source": [
    "x_test = x[idx_test, :]\n",
    "y_test = y[idx_test, :]\n",
    "y_test_labels = y[idx_test, :]\n",
    "y_test_labels[y_test_labels<=3] = 0\n",
    "y_test_labels[y_test_labels>3] = 1\n",
    "y_test_labels = y_test_labels.cpu().detach().numpy()\n",
    "print(y_test_labels)"
   ]
  },
  {
   "cell_type": "code",
   "execution_count": 120,
   "metadata": {},
   "outputs": [
    {
     "name": "stdout",
     "output_type": "stream",
     "text": [
      "Test Loss : 0.759513 [cm^2]\n"
     ]
    }
   ],
   "source": [
    "y_pred = nn_model.compute_signed_distance(x_test)\n",
    "test_loss = F.mse_loss(y_pred, y_test, reduction='mean')\n",
    "print(\"Test Loss : %f [cm^2]\" %(test_loss))\n",
    "y_pred = y_pred.cpu().detach().numpy()"
   ]
  },
  {
   "cell_type": "code",
   "execution_count": 121,
   "metadata": {},
   "outputs": [
    {
     "name": "stdout",
     "output_type": "stream",
     "text": [
      "[[0. 1. 1. ... 1. 1. 1.]\n",
      " [0. 1. 1. ... 1. 1. 1.]\n",
      " [0. 1. 1. ... 1. 1. 1.]\n",
      " ...\n",
      " [1. 1. 1. ... 1. 0. 0.]\n",
      " [1. 1. 1. ... 1. 1. 1.]\n",
      " [1. 1. 1. ... 1. 1. 0.]]\n"
     ]
    }
   ],
   "source": [
    "y_pred = nn_model.compute_signed_distance(x_test)\n",
    "y_pred = y_pred.cpu().detach().numpy()\n",
    "y_pred_labels = np.copy(y_pred)\n",
    "y_pred_labels[y_pred_labels<=3] = 0\n",
    "y_pred_labels[y_pred_labels>3] = 1\n",
    "print(y_pred_labels)"
   ]
  },
  {
   "cell_type": "code",
   "execution_count": 122,
   "metadata": {},
   "outputs": [
    {
     "name": "stdout",
     "output_type": "stream",
     "text": [
      "[[ 4972.   864.]\n",
      " [  521. 43143.]]\n"
     ]
    }
   ],
   "source": [
    "from sklearn.metrics import confusion_matrix\n",
    "conf_matrix = np.zeros((2,2,9))\n",
    "for i in range(0,9):\n",
    "    conf_matrix[:,:,i] = confusion_matrix(y_test_labels[:,i], y_pred_labels[:,i])\n",
    "print(conf_matrix[:,:,8])\n",
    "# [real=0 and pred=0] : TN, [real=0 and pred=1] : FP\n",
    "# [real=1 and pred=0] : FN, [real=1 and pred=1] : TP"
   ]
  },
  {
   "cell_type": "code",
   "execution_count": 123,
   "metadata": {},
   "outputs": [
    {
     "name": "stdout",
     "output_type": "stream",
     "text": [
      "Link 1 : \n",
      "\tTPR = 0.999160\n",
      "\tTNR = 0.958256\n",
      "Link 2 : \n",
      "\tTPR = 0.998411\n",
      "\tTNR = 0.957181\n",
      "Link 3 : \n",
      "\tTPR = 0.998043\n",
      "\tTNR = 0.951002\n",
      "Link 4 : \n",
      "\tTPR = 0.996239\n",
      "\tTNR = 0.951109\n",
      "Link 5 : \n",
      "\tTPR = 0.995179\n",
      "\tTNR = 0.955621\n",
      "Link 6 : \n",
      "\tTPR = 0.991249\n",
      "\tTNR = 0.881495\n",
      "Link 7 : \n",
      "\tTPR = 0.988475\n",
      "\tTNR = 0.884758\n",
      "Link 8 : \n",
      "\tTPR = 0.992236\n",
      "\tTNR = 0.868403\n",
      "Link 9 : \n",
      "\tTPR = 0.988068\n",
      "\tTNR = 0.851953\n"
     ]
    }
   ],
   "source": [
    "for i in range(0,9):\n",
    "    print(\"Link %d : \" %(i+1))\n",
    "    print(\"\\tTPR = %f\" %(conf_matrix[1,1,i]/(conf_matrix[1,0,i]+conf_matrix[1,1,i])))\n",
    "    print(\"\\tTNR = %f\" %(conf_matrix[0,0,i]/(conf_matrix[0,1,i]+conf_matrix[0,0,i])))"
   ]
  },
  {
   "cell_type": "code",
   "execution_count": null,
   "metadata": {},
   "outputs": [],
   "source": []
  }
 ],
 "metadata": {
  "kernelspec": {
   "display_name": "junheon",
   "language": "python",
   "name": "python3"
  },
  "language_info": {
   "codemirror_mode": {
    "name": "ipython",
    "version": 3
   },
   "file_extension": ".py",
   "mimetype": "text/x-python",
   "name": "python",
   "nbconvert_exporter": "python",
   "pygments_lexer": "ipython3",
   "version": "3.8.16"
  },
  "orig_nbformat": 4,
  "vscode": {
   "interpreter": {
    "hash": "ebf559a1a26c7ab09690bdc78bbdd9cd011abb0bf2c28ca1b9de394fc6757bd6"
   }
  }
 },
 "nbformat": 4,
 "nbformat_minor": 2
}
